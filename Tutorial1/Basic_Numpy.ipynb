{
 "cells": [
  {
   "cell_type": "markdown",
   "metadata": {
    "colab_type": "text",
    "id": "view-in-github"
   },
   "source": [
    "<a href=\"https://colab.research.google.com/github/WeizmannML/course2020/blob/master/Tutorial1/Basic_Numpy.ipynb\" target=\"_parent\"><img src=\"https://colab.research.google.com/assets/colab-badge.svg\" alt=\"Open In Colab\"/></a>"
   ]
  },
  {
   "cell_type": "markdown",
   "metadata": {
    "colab_type": "text",
    "id": "rqBgc3DGn4Vn"
   },
   "source": [
    "## Basic python and numpy arrays and their operation"
   ]
  },
  {
   "cell_type": "code",
   "execution_count": 1,
   "metadata": {
    "colab": {},
    "colab_type": "code",
    "id": "sTuWTATLn4Vo"
   },
   "outputs": [],
   "source": [
    "import numpy as np"
   ]
  },
  {
   "cell_type": "code",
   "execution_count": 2,
   "metadata": {
    "colab": {},
    "colab_type": "code",
    "id": "Hb3UEJvKn4Vt"
   },
   "outputs": [],
   "source": [
    "# a basic list in python \n",
    "A = [2.0, 8.1, 3.4]"
   ]
  },
  {
   "cell_type": "code",
   "execution_count": 3,
   "metadata": {
    "colab": {
     "base_uri": "https://localhost:8080/",
     "height": 34
    },
    "colab_type": "code",
    "id": "HsrsVUVnn4Vw",
    "outputId": "583cbb92-a4a9-4ad5-bbb7-91f0686fe0f3"
   },
   "outputs": [
    {
     "data": {
      "text/plain": [
       "list"
      ]
     },
     "execution_count": 3,
     "metadata": {},
     "output_type": "execute_result"
    }
   ],
   "source": [
    "type(A)"
   ]
  },
  {
   "cell_type": "code",
   "execution_count": 4,
   "metadata": {
    "colab": {
     "base_uri": "https://localhost:8080/",
     "height": 34
    },
    "colab_type": "code",
    "id": "qcov_NVbn4V1",
    "outputId": "2ef19757-1ef4-4ed6-8d39-7dafc0a38a60"
   },
   "outputs": [
    {
     "name": "stdout",
     "output_type": "stream",
     "text": [
      "[2.  8.1 3.4]\n"
     ]
    }
   ],
   "source": [
    "B = np.array(A) # equivalent to B = np.array([2.0, 8.1, 3.4])\n",
    "print(B)"
   ]
  },
  {
   "cell_type": "code",
   "execution_count": 5,
   "metadata": {
    "colab": {
     "base_uri": "https://localhost:8080/",
     "height": 34
    },
    "colab_type": "code",
    "id": "waOJ5PGkn4V3",
    "outputId": "b5824a73-0984-4f24-f8b5-b63963f8ccc3"
   },
   "outputs": [
    {
     "data": {
      "text/plain": [
       "(numpy.ndarray, dtype('float64'))"
      ]
     },
     "execution_count": 5,
     "metadata": {},
     "output_type": "execute_result"
    }
   ],
   "source": [
    "type(B), B.dtype"
   ]
  },
  {
   "cell_type": "code",
   "execution_count": 6,
   "metadata": {
    "colab": {
     "base_uri": "https://localhost:8080/",
     "height": 34
    },
    "colab_type": "code",
    "id": "KxZC91lCn4V6",
    "outputId": "6d3fc9f4-58ba-437c-d407-12866ad1aa01"
   },
   "outputs": [
    {
     "data": {
      "text/plain": [
       "[2.0, 8.1, 3.4, 6.3]"
      ]
     },
     "execution_count": 6,
     "metadata": {},
     "output_type": "execute_result"
    }
   ],
   "source": [
    "A.append(6.3)\n",
    "A"
   ]
  },
  {
   "cell_type": "code",
   "execution_count": 7,
   "metadata": {
    "colab": {
     "base_uri": "https://localhost:8080/",
     "height": 34
    },
    "colab_type": "code",
    "id": "eJfRjzhWn4WA",
    "outputId": "f214ed60-1e47-4e5f-ead2-e582f07d8da0"
   },
   "outputs": [
    {
     "data": {
      "text/plain": [
       "[2.0, 3.4, 6.3]"
      ]
     },
     "execution_count": 7,
     "metadata": {},
     "output_type": "execute_result"
    }
   ],
   "source": [
    "A.pop(1) # -- notice to remove an item from the list, one needs to pass the corresponding location index -- #\n",
    "A"
   ]
  },
  {
   "cell_type": "code",
   "execution_count": 8,
   "metadata": {
    "colab": {},
    "colab_type": "code",
    "id": "oa_7c6WMn4WD"
   },
   "outputs": [],
   "source": [
    "B\n",
    "B.sort() # -- equivalently np.sort(B) -- #"
   ]
  },
  {
   "cell_type": "code",
   "execution_count": 9,
   "metadata": {
    "colab": {
     "base_uri": "https://localhost:8080/",
     "height": 34
    },
    "colab_type": "code",
    "id": "E2PiloCEn4WG",
    "outputId": "10221aae-4c0e-4e76-a26e-9e403879eae3"
   },
   "outputs": [
    {
     "data": {
      "text/plain": [
       "array([2. , 3.4, 8.1])"
      ]
     },
     "execution_count": 9,
     "metadata": {},
     "output_type": "execute_result"
    }
   ],
   "source": [
    "B"
   ]
  },
  {
   "cell_type": "code",
   "execution_count": 10,
   "metadata": {
    "colab": {},
    "colab_type": "code",
    "id": "jMl7OzeMn4WI"
   },
   "outputs": [],
   "source": [
    "#np.ndarray.sort??"
   ]
  },
  {
   "cell_type": "markdown",
   "metadata": {
    "colab_type": "text",
    "id": "UfbM-Ka-n4WK"
   },
   "source": [
    "### array indexing "
   ]
  },
  {
   "cell_type": "code",
   "execution_count": 11,
   "metadata": {
    "colab": {},
    "colab_type": "code",
    "id": "J0W5_8Zrn4WL"
   },
   "outputs": [],
   "source": [
    "x = np.array(['A', 'B', 'C', 'D', 'E', 'F', 'G', 'H', 'I', 'J'])"
   ]
  },
  {
   "cell_type": "code",
   "execution_count": 12,
   "metadata": {
    "colab": {
     "base_uri": "https://localhost:8080/",
     "height": 34
    },
    "colab_type": "code",
    "id": "Wl3Cdiyen4WQ",
    "outputId": "5d8082b5-cd12-47fe-9b10-cff2bfdac2e7"
   },
   "outputs": [
    {
     "data": {
      "text/plain": [
       "(10,)"
      ]
     },
     "execution_count": 12,
     "metadata": {},
     "output_type": "execute_result"
    }
   ],
   "source": [
    "x.shape"
   ]
  },
  {
   "cell_type": "markdown",
   "metadata": {
    "colab_type": "text",
    "id": "xwh8_XuUn4WV"
   },
   "source": [
    "#### <font color=blue>The basic slice syntax is $i:j:k$ where $i$ is the starting index, $j$ is the stopping index, and $k$ is the step $(k\\neq0)$. This selects the m elements (in the corresponding dimension) with index values $i, i + k, …, i + (m - 1) k$ where $m = q + (r\\neq0)$ and $q$ and $r$ are the quotient and remainder obtained by dividing $j - i$ by $k: j - i = q k + r$, so that $i + (m - 1) k < j$.</font>\n",
    "\n"
   ]
  },
  {
   "cell_type": "code",
   "execution_count": 13,
   "metadata": {
    "colab": {
     "base_uri": "https://localhost:8080/",
     "height": 34
    },
    "colab_type": "code",
    "id": "r8XJQcR2n4WV",
    "outputId": "a7d66dba-9843-4189-d2d9-10c2fa096df6"
   },
   "outputs": [
    {
     "data": {
      "text/plain": [
       "array(['B', 'D', 'F'], dtype='<U1')"
      ]
     },
     "execution_count": 13,
     "metadata": {},
     "output_type": "execute_result"
    }
   ],
   "source": [
    "x[1:7:2] # -- \"1:7\" picks up 'B' --> 'F'. Then \":2\" picks up every 2nd element of the reduced array"
   ]
  },
  {
   "cell_type": "code",
   "execution_count": 14,
   "metadata": {
    "colab": {
     "base_uri": "https://localhost:8080/",
     "height": 50
    },
    "colab_type": "code",
    "id": "JZdXGfUGn4WX",
    "outputId": "cc1101cb-2b25-49e2-d646-bf3806d50e72"
   },
   "outputs": [
    {
     "data": {
      "text/plain": [
       "(array(['D', 'E', 'F', 'G', 'H', 'I', 'J'], dtype='<U1'),\n",
       " array(['A', 'B', 'C'], dtype='<U1'))"
      ]
     },
     "execution_count": 14,
     "metadata": {},
     "output_type": "execute_result"
    }
   ],
   "source": [
    "x[3:], x[:3] # -- c[p:] --> all the elements starting from index p, x[:q] ---> all the elements upto index q"
   ]
  },
  {
   "cell_type": "code",
   "execution_count": 15,
   "metadata": {
    "colab": {
     "base_uri": "https://localhost:8080/",
     "height": 34
    },
    "colab_type": "code",
    "id": "AzoVYAKOn4Wa",
    "outputId": "11d80fb4-7ebc-4fba-b418-c958545512d5"
   },
   "outputs": [
    {
     "data": {
      "text/plain": [
       "['A', 'B', 'C', 'D', 'E', 'F', 'G', 'H', 'I', 'J']"
      ]
     },
     "execution_count": 15,
     "metadata": {},
     "output_type": "execute_result"
    }
   ],
   "source": [
    "x[:3].tolist() + x[3:].tolist() # -- notice that we converted the numpy array to list.\n",
    "# --- why can't we work with the numpy.ndarray structure ? "
   ]
  },
  {
   "cell_type": "markdown",
   "metadata": {
    "colab_type": "text",
    "id": "LUFf9nV8n4Wc"
   },
   "source": [
    "#### <font color=blue>Negative $i$ and $j$ are interpreted as $n + i$ and $n + j$ where $n$ is the number of elements in the corresponding dimension. Negative $k$ makes stepping go towards smaller indices.</font>"
   ]
  },
  {
   "cell_type": "code",
   "execution_count": 16,
   "metadata": {
    "colab": {
     "base_uri": "https://localhost:8080/",
     "height": 34
    },
    "colab_type": "code",
    "id": "_0kMIaA2n4Wd",
    "outputId": "9afa11a4-a41f-468e-ac23-69f7c0c76a8a"
   },
   "outputs": [
    {
     "data": {
      "text/plain": [
       "(array(['I', 'J'], dtype='<U1'), array(['H', 'G', 'F', 'E'], dtype='<U1'))"
      ]
     },
     "execution_count": 16,
     "metadata": {},
     "output_type": "execute_result"
    }
   ],
   "source": [
    "x[-2:10], x[-3:3:-1]"
   ]
  },
  {
   "cell_type": "code",
   "execution_count": 17,
   "metadata": {
    "colab": {
     "base_uri": "https://localhost:8080/",
     "height": 34
    },
    "colab_type": "code",
    "id": "kRHR2S7Gn4Wi",
    "outputId": "02cd0032-bf31-4f17-dc76-2d81f50b5a3f"
   },
   "outputs": [
    {
     "data": {
      "text/plain": [
       "array(['C', 'D', 'E'], dtype='<U1')"
      ]
     },
     "execution_count": 17,
     "metadata": {},
     "output_type": "execute_result"
    }
   ],
   "source": [
    "x[[2,3,4]] # -- by passing the positions as a list, a subset of an array can be extracted"
   ]
  },
  {
   "cell_type": "code",
   "execution_count": 18,
   "metadata": {
    "colab": {
     "base_uri": "https://localhost:8080/",
     "height": 67
    },
    "colab_type": "code",
    "id": "j8Ii1QkTn4Wm",
    "outputId": "d141b28c-bdd7-49f5-a3da-28451d0dbf2b"
   },
   "outputs": [
    {
     "data": {
      "text/plain": [
       "array([ 1,  3,  5,  7,  9, 11, 13, 15, 17, 19, 21, 23, 25, 27, 29, 31, 33,\n",
       "       35, 37, 39, 41, 43, 45, 47, 49, 51, 53, 55, 57, 59, 61, 63, 65, 67,\n",
       "       69, 71, 73, 75, 77, 79, 81, 83, 85, 87, 89, 91, 93, 95, 97, 99])"
      ]
     },
     "execution_count": 18,
     "metadata": {},
     "output_type": "execute_result"
    }
   ],
   "source": [
    "np.arange(1, 100, 2) # --- can be used for any range for fractional interval"
   ]
  },
  {
   "cell_type": "code",
   "execution_count": 19,
   "metadata": {
    "colab": {
     "base_uri": "https://localhost:8080/",
     "height": 50
    },
    "colab_type": "code",
    "id": "j01FWwQOn4Wo",
    "outputId": "9c093bfe-8d8f-475c-c1fd-8984ac13bbae"
   },
   "outputs": [
    {
     "data": {
      "text/plain": [
       "array([0.        , 0.28571429, 0.57142857, 0.85714286, 1.14285714,\n",
       "       1.42857143, 1.71428571, 2.        ])"
      ]
     },
     "execution_count": 19,
     "metadata": {},
     "output_type": "execute_result"
    }
   ],
   "source": [
    "np.linspace(0., 2., 8) # ---- make equal interval of numbers "
   ]
  },
  {
   "cell_type": "markdown",
   "metadata": {
    "colab_type": "text",
    "id": "uLzXgwq5n4Wq"
   },
   "source": [
    "## Higher dimensional arrays"
   ]
  },
  {
   "cell_type": "code",
   "execution_count": 20,
   "metadata": {
    "colab": {},
    "colab_type": "code",
    "id": "FeA4_7FWn4Wq"
   },
   "outputs": [],
   "source": [
    "x = np.random.rand( 3,3,4 ) # -- create a rank-3 object of shape (3,3,4)"
   ]
  },
  {
   "cell_type": "code",
   "execution_count": 21,
   "metadata": {
    "colab": {
     "base_uri": "https://localhost:8080/",
     "height": 202
    },
    "colab_type": "code",
    "id": "ne_ugjfqn4Ws",
    "outputId": "f7399620-c022-488b-e833-9de1541f44e7"
   },
   "outputs": [
    {
     "data": {
      "text/plain": [
       "array([[[0.86717054, 0.68456937, 0.65259104, 0.18924466],\n",
       "        [0.86334626, 0.93328926, 0.01048697, 0.55168575],\n",
       "        [0.58134843, 0.42767637, 0.58786785, 0.76597531]],\n",
       "\n",
       "       [[0.28175843, 0.55570106, 0.1691294 , 0.29192788],\n",
       "        [0.75800752, 0.60356324, 0.78828402, 0.28021231],\n",
       "        [0.62939969, 0.9490617 , 0.37490914, 0.96128451]],\n",
       "\n",
       "       [[0.69665805, 0.98928034, 0.65661944, 0.95313419],\n",
       "        [0.09971081, 0.87573929, 0.97039324, 0.78519675],\n",
       "        [0.34595691, 0.17928997, 0.44093931, 0.6657851 ]]])"
      ]
     },
     "execution_count": 21,
     "metadata": {},
     "output_type": "execute_result"
    }
   ],
   "source": [
    "x"
   ]
  },
  {
   "cell_type": "code",
   "execution_count": 22,
   "metadata": {
    "colab": {
     "base_uri": "https://localhost:8080/",
     "height": 67
    },
    "colab_type": "code",
    "id": "7riki3eln4Wu",
    "outputId": "72004c97-07e6-463e-8aa0-c7574d9097c9"
   },
   "outputs": [
    {
     "data": {
      "text/plain": [
       "(array([0, 0, 0, 0, 0, 0, 0, 0, 0, 1, 1, 1, 1, 1, 1, 1, 2, 2, 2, 2, 2, 2,\n",
       "        2, 2]),\n",
       " array([0, 0, 0, 1, 1, 1, 2, 2, 2, 0, 1, 1, 1, 2, 2, 2, 0, 0, 0, 0, 1, 1,\n",
       "        1, 2]),\n",
       " array([0, 1, 2, 0, 1, 3, 0, 2, 3, 1, 0, 1, 2, 0, 1, 3, 0, 1, 2, 3, 1, 2,\n",
       "        3, 3]))"
      ]
     },
     "execution_count": 22,
     "metadata": {},
     "output_type": "execute_result"
    }
   ],
   "source": [
    "np.where(x > 0.5)"
   ]
  },
  {
   "cell_type": "code",
   "execution_count": 23,
   "metadata": {
    "colab": {
     "base_uri": "https://localhost:8080/",
     "height": 84
    },
    "colab_type": "code",
    "id": "VUI8BD_un4Wx",
    "outputId": "ee993652-49c8-4035-fd07-08f0647ca770"
   },
   "outputs": [
    {
     "data": {
      "text/plain": [
       "array([0.86717054, 0.68456937, 0.65259104, 0.86334626, 0.93328926,\n",
       "       0.55168575, 0.58134843, 0.58786785, 0.76597531, 0.55570106,\n",
       "       0.75800752, 0.60356324, 0.78828402, 0.62939969, 0.9490617 ,\n",
       "       0.96128451, 0.69665805, 0.98928034, 0.65661944, 0.95313419,\n",
       "       0.87573929, 0.97039324, 0.78519675, 0.6657851 ])"
      ]
     },
     "execution_count": 23,
     "metadata": {},
     "output_type": "execute_result"
    }
   ],
   "source": [
    "x[ np.where(x > 0.5) ]"
   ]
  },
  {
   "cell_type": "code",
   "execution_count": null,
   "metadata": {
    "colab": {},
    "colab_type": "code",
    "id": "XCQ3f-wDn4Wz"
   },
   "outputs": [],
   "source": []
  },
  {
   "cell_type": "code",
   "execution_count": 24,
   "metadata": {
    "colab": {},
    "colab_type": "code",
    "id": "drnjf3vSn4W1"
   },
   "outputs": [],
   "source": [
    "X = np.array( [\n",
    "    ['A11', 'A12', 'A13'],\n",
    "    ['A21', 'A22', 'A23'],\n",
    "    ['A31', 'A32', 'A33']\n",
    "] )"
   ]
  },
  {
   "cell_type": "code",
   "execution_count": 25,
   "metadata": {
    "colab": {
     "base_uri": "https://localhost:8080/",
     "height": 67
    },
    "colab_type": "code",
    "id": "LfzuXnCNn4W3",
    "outputId": "1b1afbd0-afd9-46e7-c44a-c5e41fbe6e92"
   },
   "outputs": [
    {
     "data": {
      "text/plain": [
       "array([['A11', 'A12', 'A13'],\n",
       "       ['A21', 'A22', 'A23'],\n",
       "       ['A31', 'A32', 'A33']], dtype='<U3')"
      ]
     },
     "execution_count": 25,
     "metadata": {},
     "output_type": "execute_result"
    }
   ],
   "source": [
    "X"
   ]
  },
  {
   "cell_type": "code",
   "execution_count": 26,
   "metadata": {
    "colab": {
     "base_uri": "https://localhost:8080/",
     "height": 134
    },
    "colab_type": "code",
    "id": "MUGTCu-Cn4W5",
    "outputId": "66a65b2f-5176-47d9-9d2b-7b4daf0ae543"
   },
   "outputs": [
    {
     "data": {
      "text/plain": [
       "(array([['A11', 'A21', 'A31'],\n",
       "        ['A12', 'A22', 'A32'],\n",
       "        ['A13', 'A23', 'A33']], dtype='<U3'),\n",
       " array([['A11', 'A21', 'A31'],\n",
       "        ['A12', 'A22', 'A32'],\n",
       "        ['A13', 'A23', 'A33']], dtype='<U3'),\n",
       " array([['A11', 'A21', 'A31'],\n",
       "        ['A12', 'A22', 'A32'],\n",
       "        ['A13', 'A23', 'A33']], dtype='<U3'))"
      ]
     },
     "execution_count": 26,
     "metadata": {},
     "output_type": "execute_result"
    }
   ],
   "source": [
    "np.transpose(X), np.transpose(X, (1,0)), X.T # --- possible to pass the index of dimension to permute"
   ]
  },
  {
   "cell_type": "code",
   "execution_count": 27,
   "metadata": {
    "colab": {},
    "colab_type": "code",
    "id": "E2MixE16n4W8"
   },
   "outputs": [],
   "source": [
    "# From a 4x3 array the corner elements should be selected using advanced indexing. \n",
    "# Thus all elements for which the column is one of [0, 2] and the row is one of [0, 3] need to be selected. \n",
    "# To use advanced indexing one needs to select all elements explicitly. \n",
    "# Using the method explained previously one could write:\n",
    "\n",
    "x = np.array([[ 0,  1,  2],\n",
    "              [ 3,  4,  5],\n",
    "              [ 6,  7,  8],\n",
    "              [ 9, 10, 11]])"
   ]
  },
  {
   "cell_type": "code",
   "execution_count": 28,
   "metadata": {
    "colab": {
     "base_uri": "https://localhost:8080/",
     "height": 50
    },
    "colab_type": "code",
    "id": "6PGYBtm1n4W-",
    "outputId": "a0778970-c47f-4210-9682-043aa94fc837"
   },
   "outputs": [
    {
     "data": {
      "text/plain": [
       "array([[ 0,  2],\n",
       "       [ 9, 11]])"
      ]
     },
     "execution_count": 28,
     "metadata": {},
     "output_type": "execute_result"
    }
   ],
   "source": [
    "rows = np.array([[0, 0],\n",
    "                 [3, 3]], dtype=np.intp)\n",
    "\n",
    "columns = np.array([[0, 2],\n",
    "                    [0, 2]], dtype=np.intp)\n",
    "\n",
    "x[rows, columns]"
   ]
  },
  {
   "cell_type": "code",
   "execution_count": 29,
   "metadata": {
    "colab": {},
    "colab_type": "code",
    "id": "UPAieEPen4XD"
   },
   "outputs": [],
   "source": [
    "a = np.arange(12)**2 # -- the first 12 square numbers"
   ]
  },
  {
   "cell_type": "code",
   "execution_count": 30,
   "metadata": {
    "colab": {
     "base_uri": "https://localhost:8080/",
     "height": 34
    },
    "colab_type": "code",
    "id": "e4sowRlln4XF",
    "outputId": "704af5d4-91c1-455c-8fe4-e2761f035898"
   },
   "outputs": [
    {
     "data": {
      "text/plain": [
       "array([ 1,  1,  9, 64, 25])"
      ]
     },
     "execution_count": 30,
     "metadata": {},
     "output_type": "execute_result"
    }
   ],
   "source": [
    "i = np.array([1, 1, 3, 8, 5]) \n",
    "a[i]"
   ]
  },
  {
   "cell_type": "code",
   "execution_count": 31,
   "metadata": {
    "colab": {
     "base_uri": "https://localhost:8080/",
     "height": 50
    },
    "colab_type": "code",
    "id": "nIfra882n4XH",
    "outputId": "c64ac602-ecae-4e26-db11-0203df28ab29"
   },
   "outputs": [
    {
     "data": {
      "text/plain": [
       "array([[ 9, 16],\n",
       "       [81, 49]])"
      ]
     },
     "execution_count": 31,
     "metadata": {},
     "output_type": "execute_result"
    }
   ],
   "source": [
    "j = np.array([[3, 4], [9, 7]]) \n",
    "a[j]"
   ]
  },
  {
   "cell_type": "markdown",
   "metadata": {
    "colab_type": "text",
    "id": "QFlLYtFjn4XJ"
   },
   "source": [
    "### Reshaping tensors and mathematical operation"
   ]
  },
  {
   "cell_type": "code",
   "execution_count": 32,
   "metadata": {
    "colab": {
     "base_uri": "https://localhost:8080/",
     "height": 84
    },
    "colab_type": "code",
    "id": "RtZANF0Jn4XJ",
    "outputId": "c2206368-5702-499a-b0ff-43ff61111af5"
   },
   "outputs": [
    {
     "data": {
      "text/plain": [
       "array([[ 0,  1,  2,  3,  4,  5],\n",
       "       [ 6,  7,  8,  9, 10, 11],\n",
       "       [12, 13, 14, 15, 16, 17],\n",
       "       [18, 19, 20, 21, 22, 23]])"
      ]
     },
     "execution_count": 32,
     "metadata": {},
     "output_type": "execute_result"
    }
   ],
   "source": [
    "np.arange(24).reshape(4,6)"
   ]
  },
  {
   "cell_type": "code",
   "execution_count": 33,
   "metadata": {
    "colab": {
     "base_uri": "https://localhost:8080/",
     "height": 202
    },
    "colab_type": "code",
    "id": "cteV0Vyyn4XN",
    "outputId": "73c9394f-13a4-4fca-feb8-1e7b74235b19"
   },
   "outputs": [
    {
     "data": {
      "text/plain": [
       "array([[[ 0,  1,  2],\n",
       "        [ 3,  4,  5]],\n",
       "\n",
       "       [[ 6,  7,  8],\n",
       "        [ 9, 10, 11]],\n",
       "\n",
       "       [[12, 13, 14],\n",
       "        [15, 16, 17]],\n",
       "\n",
       "       [[18, 19, 20],\n",
       "        [21, 22, 23]]])"
      ]
     },
     "execution_count": 33,
     "metadata": {},
     "output_type": "execute_result"
    }
   ],
   "source": [
    "np.arange(24).reshape(4,2,3) # -- 4 pieces of 2X3 matrices"
   ]
  },
  {
   "cell_type": "code",
   "execution_count": 34,
   "metadata": {
    "colab": {},
    "colab_type": "code",
    "id": "0kxplcHqn4XQ"
   },
   "outputs": [],
   "source": [
    "X = np.array([[ 0,  1,  2,  3,  4,  5],\n",
    "              [ 6,  7,  8,  9, 10, 11],\n",
    "              [12, 13, 14, 15, 16, 17],\n",
    "              [18, 19, 20, 21, 22, 23]\n",
    "             ]\n",
    "            )"
   ]
  },
  {
   "cell_type": "code",
   "execution_count": 35,
   "metadata": {
    "colab": {
     "base_uri": "https://localhost:8080/",
     "height": 34
    },
    "colab_type": "code",
    "id": "wI3d4Ydtn4XT",
    "outputId": "456cfd99-4606-4618-83fe-828a51210f5a"
   },
   "outputs": [
    {
     "data": {
      "text/plain": [
       "array([ 2,  8, 14, 20])"
      ]
     },
     "execution_count": 35,
     "metadata": {},
     "output_type": "execute_result"
    }
   ],
   "source": [
    "X[:,2] # -- pick out the 3rd column"
   ]
  },
  {
   "cell_type": "code",
   "execution_count": 36,
   "metadata": {
    "colab": {
     "base_uri": "https://localhost:8080/",
     "height": 34
    },
    "colab_type": "code",
    "id": "3ddPiql1n4XW",
    "outputId": "ff93fa3d-b901-44c3-b3ec-593938c6d96f"
   },
   "outputs": [
    {
     "data": {
      "text/plain": [
       "array([ 6,  7,  8,  9, 10, 11])"
      ]
     },
     "execution_count": 36,
     "metadata": {},
     "output_type": "execute_result"
    }
   ],
   "source": [
    "X[1,:] # -- pick out the 2nd row"
   ]
  },
  {
   "cell_type": "code",
   "execution_count": 37,
   "metadata": {
    "colab": {},
    "colab_type": "code",
    "id": "45vozZJXn4XY"
   },
   "outputs": [],
   "source": [
    "#np.sum??"
   ]
  },
  {
   "cell_type": "code",
   "execution_count": 38,
   "metadata": {
    "colab": {
     "base_uri": "https://localhost:8080/",
     "height": 34
    },
    "colab_type": "code",
    "id": "JwtbLo2Ln4Xd",
    "outputId": "ae1c6816-1891-44bf-b5de-9c61cd79734b"
   },
   "outputs": [
    {
     "data": {
      "text/plain": [
       "(array([36, 40, 44, 48, 52, 56]), array([ 15,  51,  87, 123]))"
      ]
     },
     "execution_count": 38,
     "metadata": {},
     "output_type": "execute_result"
    }
   ],
   "source": [
    "np.sum(X, axis=0), np.sum(X, axis=1) # -- algebraic operations can be carried out along particular dimension"
   ]
  },
  {
   "cell_type": "code",
   "execution_count": 39,
   "metadata": {
    "colab": {
     "base_uri": "https://localhost:8080/",
     "height": 34
    },
    "colab_type": "code",
    "id": "iFqd9E4jn4Xf",
    "outputId": "fef93d61-7c2d-470c-f680-17218d713f88"
   },
   "outputs": [
    {
     "data": {
      "text/plain": [
       "array([ 9., 10., 11., 12., 13., 14.])"
      ]
     },
     "execution_count": 39,
     "metadata": {},
     "output_type": "execute_result"
    }
   ],
   "source": [
    "np.mean(X, axis=0)"
   ]
  },
  {
   "cell_type": "code",
   "execution_count": 40,
   "metadata": {
    "colab": {
     "base_uri": "https://localhost:8080/",
     "height": 34
    },
    "colab_type": "code",
    "id": "kHPLaurAn4Xm",
    "outputId": "ad77e0a0-9d22-4cb0-c60d-a6c75c726ad1"
   },
   "outputs": [
    {
     "data": {
      "text/plain": [
       "(array([ 0,  7, 14, 21]), 42)"
      ]
     },
     "execution_count": 40,
     "metadata": {},
     "output_type": "execute_result"
    }
   ],
   "source": [
    "np.diag(X), np.trace(X)"
   ]
  },
  {
   "cell_type": "code",
   "execution_count": 41,
   "metadata": {
    "colab": {},
    "colab_type": "code",
    "id": "B990o_uLn4Xo"
   },
   "outputs": [],
   "source": [
    "a = 2 * np.ones([2,2])\n",
    "b = 3 * np.ones([3,3])"
   ]
  },
  {
   "cell_type": "code",
   "execution_count": 42,
   "metadata": {
    "colab": {
     "base_uri": "https://localhost:8080/",
     "height": 84
    },
    "colab_type": "code",
    "id": "M4pHHOODn4Xq",
    "outputId": "ad67ea7c-390c-4b6c-86d0-fa2bb30b632f"
   },
   "outputs": [
    {
     "data": {
      "text/plain": [
       "(array([[2., 2.],\n",
       "        [2., 2.]]),\n",
       " array([[3., 3., 3.],\n",
       "        [3., 3., 3.],\n",
       "        [3., 3., 3.]]))"
      ]
     },
     "execution_count": 42,
     "metadata": {},
     "output_type": "execute_result"
    }
   ],
   "source": [
    "a, b"
   ]
  },
  {
   "cell_type": "code",
   "execution_count": 43,
   "metadata": {
    "colab": {
     "base_uri": "https://localhost:8080/",
     "height": 84
    },
    "colab_type": "code",
    "id": "6D9DDnrqn4Xt",
    "outputId": "446ebb33-cbd5-4331-a959-213c6f5230af"
   },
   "outputs": [
    {
     "data": {
      "text/plain": [
       "array([[6., 6., 6., 6., 6., 6., 6., 6., 6.],\n",
       "       [6., 6., 6., 6., 6., 6., 6., 6., 6.],\n",
       "       [6., 6., 6., 6., 6., 6., 6., 6., 6.],\n",
       "       [6., 6., 6., 6., 6., 6., 6., 6., 6.]])"
      ]
     },
     "execution_count": 43,
     "metadata": {},
     "output_type": "execute_result"
    }
   ],
   "source": [
    "np.outer(a, b) "
   ]
  },
  {
   "cell_type": "markdown",
   "metadata": {
    "colab_type": "text",
    "id": "k0tqAp-Qn4Xv"
   },
   "source": [
    "### Merging and splitting of matrices"
   ]
  },
  {
   "cell_type": "code",
   "execution_count": 44,
   "metadata": {
    "colab": {},
    "colab_type": "code",
    "id": "ZQWq45XLn4Xw"
   },
   "outputs": [],
   "source": [
    "c, d = np.ones([4,4]), 3 * np.ones([4,4])"
   ]
  },
  {
   "cell_type": "code",
   "execution_count": 45,
   "metadata": {
    "colab": {
     "base_uri": "https://localhost:8080/",
     "height": 0
    },
    "colab_type": "code",
    "id": "8Wgjeupvn4X0",
    "outputId": "ffc65ee1-256e-40e6-e6bb-eb03419cec9f"
   },
   "outputs": [
    {
     "data": {
      "text/plain": [
       "(array([[1., 1., 1., 1.],\n",
       "        [1., 1., 1., 1.],\n",
       "        [1., 1., 1., 1.],\n",
       "        [1., 1., 1., 1.]]),\n",
       " array([[3., 3., 3., 3.],\n",
       "        [3., 3., 3., 3.],\n",
       "        [3., 3., 3., 3.],\n",
       "        [3., 3., 3., 3.]]))"
      ]
     },
     "execution_count": 45,
     "metadata": {},
     "output_type": "execute_result"
    }
   ],
   "source": [
    "c, d"
   ]
  },
  {
   "cell_type": "code",
   "execution_count": 46,
   "metadata": {
    "colab": {
     "base_uri": "https://localhost:8080/",
     "height": 0
    },
    "colab_type": "code",
    "id": "oMsPE3uvn4X1",
    "outputId": "63a72340-7ace-463c-a9d2-9bbebfb6b55f"
   },
   "outputs": [
    {
     "data": {
      "text/plain": [
       "(array([[1., 1., 1., 1.],\n",
       "        [1., 1., 1., 1.],\n",
       "        [1., 1., 1., 1.],\n",
       "        [1., 1., 1., 1.],\n",
       "        [3., 3., 3., 3.],\n",
       "        [3., 3., 3., 3.],\n",
       "        [3., 3., 3., 3.],\n",
       "        [3., 3., 3., 3.]]),\n",
       " array([[1., 1., 1., 1.],\n",
       "        [1., 1., 1., 1.],\n",
       "        [1., 1., 1., 1.],\n",
       "        [1., 1., 1., 1.],\n",
       "        [3., 3., 3., 3.],\n",
       "        [3., 3., 3., 3.],\n",
       "        [3., 3., 3., 3.],\n",
       "        [3., 3., 3., 3.]]))"
      ]
     },
     "execution_count": 46,
     "metadata": {},
     "output_type": "execute_result"
    }
   ],
   "source": [
    "np.concatenate( (c,d), axis=0 ), np.vstack( (c,d)  )"
   ]
  },
  {
   "cell_type": "code",
   "execution_count": 47,
   "metadata": {
    "colab": {
     "base_uri": "https://localhost:8080/",
     "height": 0
    },
    "colab_type": "code",
    "id": "ZD4RqB8en4X3",
    "outputId": "a609827d-947f-4832-df0b-07887917d1f7"
   },
   "outputs": [
    {
     "data": {
      "text/plain": [
       "(array([[1., 1., 1., 1., 3., 3., 3., 3.],\n",
       "        [1., 1., 1., 1., 3., 3., 3., 3.],\n",
       "        [1., 1., 1., 1., 3., 3., 3., 3.],\n",
       "        [1., 1., 1., 1., 3., 3., 3., 3.]]),\n",
       " array([[1., 1., 1., 1., 3., 3., 3., 3.],\n",
       "        [1., 1., 1., 1., 3., 3., 3., 3.],\n",
       "        [1., 1., 1., 1., 3., 3., 3., 3.],\n",
       "        [1., 1., 1., 1., 3., 3., 3., 3.]]))"
      ]
     },
     "execution_count": 47,
     "metadata": {},
     "output_type": "execute_result"
    }
   ],
   "source": [
    "np.concatenate( (c,d), axis=1 ), np.hstack( (c,d) )"
   ]
  },
  {
   "cell_type": "code",
   "execution_count": 48,
   "metadata": {
    "colab": {},
    "colab_type": "code",
    "id": "9Tisez6Sn4X5"
   },
   "outputs": [],
   "source": [
    "C = np.vstack( (c,d)  )\n"
   ]
  },
  {
   "cell_type": "code",
   "execution_count": 49,
   "metadata": {
    "colab": {
     "base_uri": "https://localhost:8080/",
     "height": 0
    },
    "colab_type": "code",
    "id": "_DrKYMRCn4X7",
    "outputId": "f960ce1c-3e0e-4cd2-a536-caddc9944edd"
   },
   "outputs": [
    {
     "data": {
      "text/plain": [
       "[array([[1., 1., 1., 1.],\n",
       "        [1., 1., 1., 1.]]),\n",
       " array([[1., 1., 1., 1.],\n",
       "        [1., 1., 1., 1.]]),\n",
       " array([[3., 3., 3., 3.],\n",
       "        [3., 3., 3., 3.]]),\n",
       " array([[3., 3., 3., 3.],\n",
       "        [3., 3., 3., 3.]])]"
      ]
     },
     "execution_count": 49,
     "metadata": {},
     "output_type": "execute_result"
    }
   ],
   "source": [
    "np.vsplit(C, 4)#np.hsplit(C, 2)"
   ]
  },
  {
   "cell_type": "markdown",
   "metadata": {
    "colab_type": "text",
    "id": "gkWwMJHzn4X-"
   },
   "source": [
    "#### application of new-axis"
   ]
  },
  {
   "cell_type": "code",
   "execution_count": 50,
   "metadata": {
    "colab": {
     "base_uri": "https://localhost:8080/",
     "height": 0
    },
    "colab_type": "code",
    "id": "EQHW8th2n4YA",
    "outputId": "3f3231be-9c66-42c6-9410-243d509cb0e0"
   },
   "outputs": [
    {
     "data": {
      "text/plain": [
       "array([1., 1., 1., 1., 1., 1., 1., 1., 1., 1., 1., 1., 1., 1., 1., 1., 3.,\n",
       "       3., 3., 3., 3., 3., 3., 3., 3., 3., 3., 3., 3., 3., 3., 3.])"
      ]
     },
     "execution_count": 50,
     "metadata": {},
     "output_type": "execute_result"
    }
   ],
   "source": [
    "C.flatten()"
   ]
  },
  {
   "cell_type": "code",
   "execution_count": 51,
   "metadata": {
    "colab": {
     "base_uri": "https://localhost:8080/",
     "height": 0
    },
    "colab_type": "code",
    "id": "67_GXTfXn4YF",
    "outputId": "3014ce1a-973d-41c3-8fa0-f6647d0bc430"
   },
   "outputs": [
    {
     "data": {
      "text/plain": [
       "array([[ 0.],\n",
       "       [10.],\n",
       "       [20.],\n",
       "       [30.]])"
      ]
     },
     "execution_count": 51,
     "metadata": {},
     "output_type": "execute_result"
    }
   ],
   "source": [
    "a = np.array([0.0, 10.0, 20.0, 30.0]) \n",
    "b = np.array([0.0, 1.0, 2.0]) \n",
    "a[:, np.newaxis]"
   ]
  },
  {
   "cell_type": "code",
   "execution_count": 52,
   "metadata": {
    "colab": {
     "base_uri": "https://localhost:8080/",
     "height": 0
    },
    "colab_type": "code",
    "id": "7ArQceuan4YK",
    "outputId": "6b39e042-3a77-4fdb-ddc5-15d6675d9b1e"
   },
   "outputs": [
    {
     "data": {
      "text/plain": [
       "((4,), (4, 1))"
      ]
     },
     "execution_count": 52,
     "metadata": {},
     "output_type": "execute_result"
    }
   ],
   "source": [
    "a.shape, a[:, np.newaxis].shape "
   ]
  },
  {
   "cell_type": "code",
   "execution_count": 53,
   "metadata": {
    "colab": {
     "base_uri": "https://localhost:8080/",
     "height": 0
    },
    "colab_type": "code",
    "id": "yXCfIty9n4YM",
    "outputId": "e37dd996-b10f-433a-8ce8-f13d617ee0b5"
   },
   "outputs": [
    {
     "data": {
      "text/plain": [
       "array([[ 0.,  1.,  2.],\n",
       "       [10., 11., 12.],\n",
       "       [20., 21., 22.],\n",
       "       [30., 31., 32.]])"
      ]
     },
     "execution_count": 53,
     "metadata": {},
     "output_type": "execute_result"
    }
   ],
   "source": [
    "a[:, np.newaxis] + b"
   ]
  },
  {
   "cell_type": "code",
   "execution_count": 54,
   "metadata": {
    "colab": {},
    "colab_type": "code",
    "id": "ktbtLBnQn4YP"
   },
   "outputs": [],
   "source": [
    "D = {'Num' + str(i) : i**2 for i in range(10)} # -- a one liner generation of dictionary"
   ]
  },
  {
   "cell_type": "code",
   "execution_count": 55,
   "metadata": {
    "colab": {
     "base_uri": "https://localhost:8080/",
     "height": 0
    },
    "colab_type": "code",
    "id": "PcrpVgkUn4YR",
    "outputId": "aeb309dc-9072-4688-c230-f448e0ac94e0"
   },
   "outputs": [
    {
     "data": {
      "text/plain": [
       "({'Num0': 0,\n",
       "  'Num1': 1,\n",
       "  'Num2': 4,\n",
       "  'Num3': 9,\n",
       "  'Num4': 16,\n",
       "  'Num5': 25,\n",
       "  'Num6': 36,\n",
       "  'Num7': 49,\n",
       "  'Num8': 64,\n",
       "  'Num9': 81},\n",
       " 9)"
      ]
     },
     "execution_count": 55,
     "metadata": {},
     "output_type": "execute_result"
    }
   ],
   "source": [
    "D, D['Num3']"
   ]
  },
  {
   "cell_type": "markdown",
   "metadata": {},
   "source": [
    "### numpy repeat"
   ]
  },
  {
   "cell_type": "code",
   "execution_count": 56,
   "metadata": {},
   "outputs": [],
   "source": [
    "# numpy.repeat(a, repeats, axis=None)"
   ]
  },
  {
   "cell_type": "code",
   "execution_count": 57,
   "metadata": {},
   "outputs": [
    {
     "data": {
      "text/plain": [
       "array([1, 1, 2, 2, 3, 3, 4, 4])"
      ]
     },
     "execution_count": 57,
     "metadata": {},
     "output_type": "execute_result"
    }
   ],
   "source": [
    "x = np.array([[1,2],[3,4]])\n",
    "np.repeat(x, 2)"
   ]
  },
  {
   "cell_type": "code",
   "execution_count": 58,
   "metadata": {},
   "outputs": [
    {
     "data": {
      "text/plain": [
       "array([[1, 1, 1, 2, 2, 2],\n",
       "       [3, 3, 3, 4, 4, 4]])"
      ]
     },
     "execution_count": 58,
     "metadata": {},
     "output_type": "execute_result"
    }
   ],
   "source": [
    "np.repeat(x, 3, axis=1)"
   ]
  },
  {
   "cell_type": "code",
   "execution_count": 59,
   "metadata": {},
   "outputs": [
    {
     "data": {
      "text/plain": [
       "array([[1, 2],\n",
       "       [3, 4],\n",
       "       [3, 4]])"
      ]
     },
     "execution_count": 59,
     "metadata": {},
     "output_type": "execute_result"
    }
   ],
   "source": [
    "np.repeat(x, [1, 2], axis=0)"
   ]
  },
  {
   "cell_type": "code",
   "execution_count": 60,
   "metadata": {},
   "outputs": [
    {
     "data": {
      "text/plain": [
       "array([[1, 1, 2, 2, 2],\n",
       "       [3, 3, 4, 4, 4]])"
      ]
     },
     "execution_count": 60,
     "metadata": {},
     "output_type": "execute_result"
    }
   ],
   "source": [
    "np.repeat(x, [2, 3], axis=1)"
   ]
  },
  {
   "cell_type": "markdown",
   "metadata": {
    "colab_type": "text",
    "id": "xy6UWPjjn4YV"
   },
   "source": [
    "### enumearte example"
   ]
  },
  {
   "cell_type": "code",
   "execution_count": 61,
   "metadata": {
    "colab": {
     "base_uri": "https://localhost:8080/",
     "height": 0
    },
    "colab_type": "code",
    "id": "LNPPzo_On4YV",
    "outputId": "e79bf488-8a45-4326-ca1c-eb475a915726"
   },
   "outputs": [
    {
     "name": "stdout",
     "output_type": "stream",
     "text": [
      "0 eat\n",
      "1 sleep\n",
      "2 repeat\n"
     ]
    }
   ],
   "source": [
    "words = [\"eat\",\"sleep\",\"repeat\"] \n",
    "for num, words in list(enumerate(words)) : \n",
    "    print(num, words)"
   ]
  },
  {
   "cell_type": "markdown",
   "metadata": {
    "colab_type": "text",
    "id": "XYtzASHan4YY"
   },
   "source": [
    "### zip example"
   ]
  },
  {
   "cell_type": "code",
   "execution_count": 62,
   "metadata": {
    "colab": {
     "base_uri": "https://localhost:8080/",
     "height": 0
    },
    "colab_type": "code",
    "id": "CfxhKx-Tn4YY",
    "outputId": "f1485da8-a4a5-4502-ed1a-88d12e5f449a"
   },
   "outputs": [
    {
     "name": "stdout",
     "output_type": "stream",
     "text": [
      "Newton  :  Calculus\n",
      "Einstein  :  Gravity\n",
      "Noether  :  Symmetry\n",
      "Dirac  :  Antiparticle\n",
      "Feynman  :  QED\n"
     ]
    }
   ],
   "source": [
    "Names = [\"Newton\",  \"Einstein\", \"Noether\", \"Dirac\", \"Feynman\" ]\n",
    "Work = ['Calculus', 'Gravity', 'Symmetry', 'Antiparticle', 'QED']\n",
    "\n",
    "for name,work in list(zip(Names,Work)) : \n",
    "    print(name, ' : ', work)"
   ]
  },
  {
   "cell_type": "markdown",
   "metadata": {
    "colab_type": "text",
    "id": "aH07tZUln4Yc"
   },
   "source": [
    "## Matplotlib plotting tool"
   ]
  },
  {
   "cell_type": "code",
   "execution_count": 63,
   "metadata": {
    "colab": {},
    "colab_type": "code",
    "id": "kanv7vGhn4Yd"
   },
   "outputs": [],
   "source": [
    "import matplotlib.pyplot as plt\n",
    "import matplotlib.colors as colors\n",
    "import matplotlib.cbook as cbook"
   ]
  },
  {
   "cell_type": "code",
   "execution_count": 64,
   "metadata": {
    "colab": {},
    "colab_type": "code",
    "id": "tPTjmowin4Yf"
   },
   "outputs": [],
   "source": [
    "plt.rcParams[\"figure.figsize\"] = (10,10) # -- make the global adjustment for layouts using rcParam dictionary"
   ]
  },
  {
   "cell_type": "code",
   "execution_count": 65,
   "metadata": {
    "colab": {
     "base_uri": "https://localhost:8080/",
     "height": 0
    },
    "colab_type": "code",
    "id": "oLqJ043yn4Yh",
    "outputId": "c7455277-4886-4f6e-aeb5-201555fca6c8"
   },
   "outputs": [
    {
     "name": "stderr",
     "output_type": "stream",
     "text": [
      "<ipython-input-65-5e94e199e9cb>:13: MatplotlibDeprecationWarning: shading='flat' when X and Y have the same dimensions as C is deprecated since 3.3.  Either specify the corners of the quadrilaterals with X and Y, or pass shading='auto', 'nearest' or 'gouraud', or set rcParams['pcolor.shading'].  This will become an error two minor releases later.\n",
      "  pcm = ax[0].pcolor(X, Y, Z,\n",
      "<ipython-input-65-5e94e199e9cb>:18: MatplotlibDeprecationWarning: shading='flat' when X and Y have the same dimensions as C is deprecated since 3.3.  Either specify the corners of the quadrilaterals with X and Y, or pass shading='auto', 'nearest' or 'gouraud', or set rcParams['pcolor.shading'].  This will become an error two minor releases later.\n",
      "  pcm = ax[1].pcolor(X, Y, Z, cmap='PuBu_r')\n"
     ]
    },
    {
     "data": {
      "image/png": "[encoded data removed]",
      "text/plain": [
       "<Figure size 720x720 with 4 Axes>"
      ]
     },
     "metadata": {
      "needs_background": "light"
     },
     "output_type": "display_data"
    }
   ],
   "source": [
    "\n",
    "N = 100\n",
    "X, Y = np.mgrid[-3:3:complex(0, N), -2:2:complex(0, N)]\n",
    "\n",
    "# A low hump with a spike coming out of the top right.  Needs to have\n",
    "# z/colour axis on a log scale so we see both hump and spike.  linear\n",
    "# scale only shows the spike.\n",
    "Z1 = np.exp(-(X)**2 - (Y)**2)\n",
    "Z2 = np.exp(-(X * 10)**2 - (Y * 10)**2)\n",
    "Z = Z1 + 50 * Z2\n",
    "\n",
    "fig, ax = plt.subplots(2, 1)\n",
    "\n",
    "pcm = ax[0].pcolor(X, Y, Z,\n",
    "                   norm=colors.LogNorm(vmin=Z.min(), vmax=Z.max()),\n",
    "                   cmap='PuBu_r')\n",
    "fig.colorbar(pcm, ax=ax[0], extend='max')\n",
    "\n",
    "pcm = ax[1].pcolor(X, Y, Z, cmap='PuBu_r')\n",
    "fig.colorbar(pcm, ax=ax[1], extend='max')\n",
    "plt.show()\n",
    "\n"
   ]
  },
  {
   "cell_type": "code",
   "execution_count": 66,
   "metadata": {
    "colab": {},
    "colab_type": "code",
    "id": "fjPbRwkDn4Yl"
   },
   "outputs": [],
   "source": [
    "from mpl_toolkits import mplot3d"
   ]
  },
  {
   "cell_type": "code",
   "execution_count": 67,
   "metadata": {
    "colab": {
     "base_uri": "https://localhost:8080/",
     "height": 0
    },
    "colab_type": "code",
    "id": "UVqfLVbHn4Yn",
    "outputId": "b36e4366-e882-4b0f-91d6-6386e25a0683"
   },
   "outputs": [
    {
     "data": {
      "image/png": "[encoded data removed]",
      "text/plain": [
       "<Figure size 720x720 with 1 Axes>"
      ]
     },
     "metadata": {
      "needs_background": "light"
     },
     "output_type": "display_data"
    }
   ],
   "source": [
    "x = np.outer(np.linspace(-2, 2, 30), np.ones(30))\n",
    "y = x.copy().T # transpose\n",
    "z = np.cos(x ** 2 + y ** 2)\n",
    "\n",
    "fig = plt.figure()\n",
    "ax = plt.axes(projection='3d')\n",
    "\n",
    "ax.plot_surface(x, y, z,cmap='viridis', edgecolor='none')\n",
    "ax.set_title('Surface plot')\n",
    "plt.show()"
   ]
  },
  {
   "cell_type": "code",
   "execution_count": 68,
   "metadata": {
    "colab": {},
    "colab_type": "code",
    "id": "jWNYvRjln4Yo"
   },
   "outputs": [
    {
     "data": {
      "text/plain": [
       "array([[-2.        , -2.        , -2.        , -2.        , -2.        ,\n",
       "        -2.        , -2.        , -2.        , -2.        , -2.        ,\n",
       "        -2.        , -2.        , -2.        , -2.        , -2.        ,\n",
       "        -2.        , -2.        , -2.        , -2.        , -2.        ,\n",
       "        -2.        , -2.        , -2.        , -2.        , -2.        ,\n",
       "        -2.        , -2.        , -2.        , -2.        , -2.        ],\n",
       "       [-1.86206897, -1.86206897, -1.86206897, -1.86206897, -1.86206897,\n",
       "        -1.86206897, -1.86206897, -1.86206897, -1.86206897, -1.86206897,\n",
       "        -1.86206897, -1.86206897, -1.86206897, -1.86206897, -1.86206897,\n",
       "        -1.86206897, -1.86206897, -1.86206897, -1.86206897, -1.86206897,\n",
       "        -1.86206897, -1.86206897, -1.86206897, -1.86206897, -1.86206897,\n",
       "        -1.86206897, -1.86206897, -1.86206897, -1.86206897, -1.86206897],\n",
       "       [-1.72413793, -1.72413793, -1.72413793, -1.72413793, -1.72413793,\n",
       "        -1.72413793, -1.72413793, -1.72413793, -1.72413793, -1.72413793,\n",
       "        -1.72413793, -1.72413793, -1.72413793, -1.72413793, -1.72413793,\n",
       "        -1.72413793, -1.72413793, -1.72413793, -1.72413793, -1.72413793,\n",
       "        -1.72413793, -1.72413793, -1.72413793, -1.72413793, -1.72413793,\n",
       "        -1.72413793, -1.72413793, -1.72413793, -1.72413793, -1.72413793],\n",
       "       [-1.5862069 , -1.5862069 , -1.5862069 , -1.5862069 , -1.5862069 ,\n",
       "        -1.5862069 , -1.5862069 , -1.5862069 , -1.5862069 , -1.5862069 ,\n",
       "        -1.5862069 , -1.5862069 , -1.5862069 , -1.5862069 , -1.5862069 ,\n",
       "        -1.5862069 , -1.5862069 , -1.5862069 , -1.5862069 , -1.5862069 ,\n",
       "        -1.5862069 , -1.5862069 , -1.5862069 , -1.5862069 , -1.5862069 ,\n",
       "        -1.5862069 , -1.5862069 , -1.5862069 , -1.5862069 , -1.5862069 ],\n",
       "       [-1.44827586, -1.44827586, -1.44827586, -1.44827586, -1.44827586,\n",
       "        -1.44827586, -1.44827586, -1.44827586, -1.44827586, -1.44827586,\n",
       "        -1.44827586, -1.44827586, -1.44827586, -1.44827586, -1.44827586,\n",
       "        -1.44827586, -1.44827586, -1.44827586, -1.44827586, -1.44827586,\n",
       "        -1.44827586, -1.44827586, -1.44827586, -1.44827586, -1.44827586,\n",
       "        -1.44827586, -1.44827586, -1.44827586, -1.44827586, -1.44827586],\n",
       "       [-1.31034483, -1.31034483, -1.31034483, -1.31034483, -1.31034483,\n",
       "        -1.31034483, -1.31034483, -1.31034483, -1.31034483, -1.31034483,\n",
       "        -1.31034483, -1.31034483, -1.31034483, -1.31034483, -1.31034483,\n",
       "        -1.31034483, -1.31034483, -1.31034483, -1.31034483, -1.31034483,\n",
       "        -1.31034483, -1.31034483, -1.31034483, -1.31034483, -1.31034483,\n",
       "        -1.31034483, -1.31034483, -1.31034483, -1.31034483, -1.31034483],\n",
       "       [-1.17241379, -1.17241379, -1.17241379, -1.17241379, -1.17241379,\n",
       "        -1.17241379, -1.17241379, -1.17241379, -1.17241379, -1.17241379,\n",
       "        -1.17241379, -1.17241379, -1.17241379, -1.17241379, -1.17241379,\n",
       "        -1.17241379, -1.17241379, -1.17241379, -1.17241379, -1.17241379,\n",
       "        -1.17241379, -1.17241379, -1.17241379, -1.17241379, -1.17241379,\n",
       "        -1.17241379, -1.17241379, -1.17241379, -1.17241379, -1.17241379],\n",
       "       [-1.03448276, -1.03448276, -1.03448276, -1.03448276, -1.03448276,\n",
       "        -1.03448276, -1.03448276, -1.03448276, -1.03448276, -1.03448276,\n",
       "        -1.03448276, -1.03448276, -1.03448276, -1.03448276, -1.03448276,\n",
       "        -1.03448276, -1.03448276, -1.03448276, -1.03448276, -1.03448276,\n",
       "        -1.03448276, -1.03448276, -1.03448276, -1.03448276, -1.03448276,\n",
       "        -1.03448276, -1.03448276, -1.03448276, -1.03448276, -1.03448276],\n",
       "       [-0.89655172, -0.89655172, -0.89655172, -0.89655172, -0.89655172,\n",
       "        -0.89655172, -0.89655172, -0.89655172, -0.89655172, -0.89655172,\n",
       "        -0.89655172, -0.89655172, -0.89655172, -0.89655172, -0.89655172,\n",
       "        -0.89655172, -0.89655172, -0.89655172, -0.89655172, -0.89655172,\n",
       "        -0.89655172, -0.89655172, -0.89655172, -0.89655172, -0.89655172,\n",
       "        -0.89655172, -0.89655172, -0.89655172, -0.89655172, -0.89655172],\n",
       "       [-0.75862069, -0.75862069, -0.75862069, -0.75862069, -0.75862069,\n",
       "        -0.75862069, -0.75862069, -0.75862069, -0.75862069, -0.75862069,\n",
       "        -0.75862069, -0.75862069, -0.75862069, -0.75862069, -0.75862069,\n",
       "        -0.75862069, -0.75862069, -0.75862069, -0.75862069, -0.75862069,\n",
       "        -0.75862069, -0.75862069, -0.75862069, -0.75862069, -0.75862069,\n",
       "        -0.75862069, -0.75862069, -0.75862069, -0.75862069, -0.75862069],\n",
       "       [-0.62068966, -0.62068966, -0.62068966, -0.62068966, -0.62068966,\n",
       "        -0.62068966, -0.62068966, -0.62068966, -0.62068966, -0.62068966,\n",
       "        -0.62068966, -0.62068966, -0.62068966, -0.62068966, -0.62068966,\n",
       "        -0.62068966, -0.62068966, -0.62068966, -0.62068966, -0.62068966,\n",
       "        -0.62068966, -0.62068966, -0.62068966, -0.62068966, -0.62068966,\n",
       "        -0.62068966, -0.62068966, -0.62068966, -0.62068966, -0.62068966],\n",
       "       [-0.48275862, -0.48275862, -0.48275862, -0.48275862, -0.48275862,\n",
       "        -0.48275862, -0.48275862, -0.48275862, -0.48275862, -0.48275862,\n",
       "        -0.48275862, -0.48275862, -0.48275862, -0.48275862, -0.48275862,\n",
       "        -0.48275862, -0.48275862, -0.48275862, -0.48275862, -0.48275862,\n",
       "        -0.48275862, -0.48275862, -0.48275862, -0.48275862, -0.48275862,\n",
       "        -0.48275862, -0.48275862, -0.48275862, -0.48275862, -0.48275862],\n",
       "       [-0.34482759, -0.34482759, -0.34482759, -0.34482759, -0.34482759,\n",
       "        -0.34482759, -0.34482759, -0.34482759, -0.34482759, -0.34482759,\n",
       "        -0.34482759, -0.34482759, -0.34482759, -0.34482759, -0.34482759,\n",
       "        -0.34482759, -0.34482759, -0.34482759, -0.34482759, -0.34482759,\n",
       "        -0.34482759, -0.34482759, -0.34482759, -0.34482759, -0.34482759,\n",
       "        -0.34482759, -0.34482759, -0.34482759, -0.34482759, -0.34482759],\n",
       "       [-0.20689655, -0.20689655, -0.20689655, -0.20689655, -0.20689655,\n",
       "        -0.20689655, -0.20689655, -0.20689655, -0.20689655, -0.20689655,\n",
       "        -0.20689655, -0.20689655, -0.20689655, -0.20689655, -0.20689655,\n",
       "        -0.20689655, -0.20689655, -0.20689655, -0.20689655, -0.20689655,\n",
       "        -0.20689655, -0.20689655, -0.20689655, -0.20689655, -0.20689655,\n",
       "        -0.20689655, -0.20689655, -0.20689655, -0.20689655, -0.20689655],\n",
       "       [-0.06896552, -0.06896552, -0.06896552, -0.06896552, -0.06896552,\n",
       "        -0.06896552, -0.06896552, -0.06896552, -0.06896552, -0.06896552,\n",
       "        -0.06896552, -0.06896552, -0.06896552, -0.06896552, -0.06896552,\n",
       "        -0.06896552, -0.06896552, -0.06896552, -0.06896552, -0.06896552,\n",
       "        -0.06896552, -0.06896552, -0.06896552, -0.06896552, -0.06896552,\n",
       "        -0.06896552, -0.06896552, -0.06896552, -0.06896552, -0.06896552],\n",
       "       [ 0.06896552,  0.06896552,  0.06896552,  0.06896552,  0.06896552,\n",
       "         0.06896552,  0.06896552,  0.06896552,  0.06896552,  0.06896552,\n",
       "         0.06896552,  0.06896552,  0.06896552,  0.06896552,  0.06896552,\n",
       "         0.06896552,  0.06896552,  0.06896552,  0.06896552,  0.06896552,\n",
       "         0.06896552,  0.06896552,  0.06896552,  0.06896552,  0.06896552,\n",
       "         0.06896552,  0.06896552,  0.06896552,  0.06896552,  0.06896552],\n",
       "       [ 0.20689655,  0.20689655,  0.20689655,  0.20689655,  0.20689655,\n",
       "         0.20689655,  0.20689655,  0.20689655,  0.20689655,  0.20689655,\n",
       "         0.20689655,  0.20689655,  0.20689655,  0.20689655,  0.20689655,\n",
       "         0.20689655,  0.20689655,  0.20689655,  0.20689655,  0.20689655,\n",
       "         0.20689655,  0.20689655,  0.20689655,  0.20689655,  0.20689655,\n",
       "         0.20689655,  0.20689655,  0.20689655,  0.20689655,  0.20689655],\n",
       "       [ 0.34482759,  0.34482759,  0.34482759,  0.34482759,  0.34482759,\n",
       "         0.34482759,  0.34482759,  0.34482759,  0.34482759,  0.34482759,\n",
       "         0.34482759,  0.34482759,  0.34482759,  0.34482759,  0.34482759,\n",
       "         0.34482759,  0.34482759,  0.34482759,  0.34482759,  0.34482759,\n",
       "         0.34482759,  0.34482759,  0.34482759,  0.34482759,  0.34482759,\n",
       "         0.34482759,  0.34482759,  0.34482759,  0.34482759,  0.34482759],\n",
       "       [ 0.48275862,  0.48275862,  0.48275862,  0.48275862,  0.48275862,\n",
       "         0.48275862,  0.48275862,  0.48275862,  0.48275862,  0.48275862,\n",
       "         0.48275862,  0.48275862,  0.48275862,  0.48275862,  0.48275862,\n",
       "         0.48275862,  0.48275862,  0.48275862,  0.48275862,  0.48275862,\n",
       "         0.48275862,  0.48275862,  0.48275862,  0.48275862,  0.48275862,\n",
       "         0.48275862,  0.48275862,  0.48275862,  0.48275862,  0.48275862],\n",
       "       [ 0.62068966,  0.62068966,  0.62068966,  0.62068966,  0.62068966,\n",
       "         0.62068966,  0.62068966,  0.62068966,  0.62068966,  0.62068966,\n",
       "         0.62068966,  0.62068966,  0.62068966,  0.62068966,  0.62068966,\n",
       "         0.62068966,  0.62068966,  0.62068966,  0.62068966,  0.62068966,\n",
       "         0.62068966,  0.62068966,  0.62068966,  0.62068966,  0.62068966,\n",
       "         0.62068966,  0.62068966,  0.62068966,  0.62068966,  0.62068966],\n",
       "       [ 0.75862069,  0.75862069,  0.75862069,  0.75862069,  0.75862069,\n",
       "         0.75862069,  0.75862069,  0.75862069,  0.75862069,  0.75862069,\n",
       "         0.75862069,  0.75862069,  0.75862069,  0.75862069,  0.75862069,\n",
       "         0.75862069,  0.75862069,  0.75862069,  0.75862069,  0.75862069,\n",
       "         0.75862069,  0.75862069,  0.75862069,  0.75862069,  0.75862069,\n",
       "         0.75862069,  0.75862069,  0.75862069,  0.75862069,  0.75862069],\n",
       "       [ 0.89655172,  0.89655172,  0.89655172,  0.89655172,  0.89655172,\n",
       "         0.89655172,  0.89655172,  0.89655172,  0.89655172,  0.89655172,\n",
       "         0.89655172,  0.89655172,  0.89655172,  0.89655172,  0.89655172,\n",
       "         0.89655172,  0.89655172,  0.89655172,  0.89655172,  0.89655172,\n",
       "         0.89655172,  0.89655172,  0.89655172,  0.89655172,  0.89655172,\n",
       "         0.89655172,  0.89655172,  0.89655172,  0.89655172,  0.89655172],\n",
       "       [ 1.03448276,  1.03448276,  1.03448276,  1.03448276,  1.03448276,\n",
       "         1.03448276,  1.03448276,  1.03448276,  1.03448276,  1.03448276,\n",
       "         1.03448276,  1.03448276,  1.03448276,  1.03448276,  1.03448276,\n",
       "         1.03448276,  1.03448276,  1.03448276,  1.03448276,  1.03448276,\n",
       "         1.03448276,  1.03448276,  1.03448276,  1.03448276,  1.03448276,\n",
       "         1.03448276,  1.03448276,  1.03448276,  1.03448276,  1.03448276],\n",
       "       [ 1.17241379,  1.17241379,  1.17241379,  1.17241379,  1.17241379,\n",
       "         1.17241379,  1.17241379,  1.17241379,  1.17241379,  1.17241379,\n",
       "         1.17241379,  1.17241379,  1.17241379,  1.17241379,  1.17241379,\n",
       "         1.17241379,  1.17241379,  1.17241379,  1.17241379,  1.17241379,\n",
       "         1.17241379,  1.17241379,  1.17241379,  1.17241379,  1.17241379,\n",
       "         1.17241379,  1.17241379,  1.17241379,  1.17241379,  1.17241379],\n",
       "       [ 1.31034483,  1.31034483,  1.31034483,  1.31034483,  1.31034483,\n",
       "         1.31034483,  1.31034483,  1.31034483,  1.31034483,  1.31034483,\n",
       "         1.31034483,  1.31034483,  1.31034483,  1.31034483,  1.31034483,\n",
       "         1.31034483,  1.31034483,  1.31034483,  1.31034483,  1.31034483,\n",
       "         1.31034483,  1.31034483,  1.31034483,  1.31034483,  1.31034483,\n",
       "         1.31034483,  1.31034483,  1.31034483,  1.31034483,  1.31034483],\n",
       "       [ 1.44827586,  1.44827586,  1.44827586,  1.44827586,  1.44827586,\n",
       "         1.44827586,  1.44827586,  1.44827586,  1.44827586,  1.44827586,\n",
       "         1.44827586,  1.44827586,  1.44827586,  1.44827586,  1.44827586,\n",
       "         1.44827586,  1.44827586,  1.44827586,  1.44827586,  1.44827586,\n",
       "         1.44827586,  1.44827586,  1.44827586,  1.44827586,  1.44827586,\n",
       "         1.44827586,  1.44827586,  1.44827586,  1.44827586,  1.44827586],\n",
       "       [ 1.5862069 ,  1.5862069 ,  1.5862069 ,  1.5862069 ,  1.5862069 ,\n",
       "         1.5862069 ,  1.5862069 ,  1.5862069 ,  1.5862069 ,  1.5862069 ,\n",
       "         1.5862069 ,  1.5862069 ,  1.5862069 ,  1.5862069 ,  1.5862069 ,\n",
       "         1.5862069 ,  1.5862069 ,  1.5862069 ,  1.5862069 ,  1.5862069 ,\n",
       "         1.5862069 ,  1.5862069 ,  1.5862069 ,  1.5862069 ,  1.5862069 ,\n",
       "         1.5862069 ,  1.5862069 ,  1.5862069 ,  1.5862069 ,  1.5862069 ],\n",
       "       [ 1.72413793,  1.72413793,  1.72413793,  1.72413793,  1.72413793,\n",
       "         1.72413793,  1.72413793,  1.72413793,  1.72413793,  1.72413793,\n",
       "         1.72413793,  1.72413793,  1.72413793,  1.72413793,  1.72413793,\n",
       "         1.72413793,  1.72413793,  1.72413793,  1.72413793,  1.72413793,\n",
       "         1.72413793,  1.72413793,  1.72413793,  1.72413793,  1.72413793,\n",
       "         1.72413793,  1.72413793,  1.72413793,  1.72413793,  1.72413793],\n",
       "       [ 1.86206897,  1.86206897,  1.86206897,  1.86206897,  1.86206897,\n",
       "         1.86206897,  1.86206897,  1.86206897,  1.86206897,  1.86206897,\n",
       "         1.86206897,  1.86206897,  1.86206897,  1.86206897,  1.86206897,\n",
       "         1.86206897,  1.86206897,  1.86206897,  1.86206897,  1.86206897,\n",
       "         1.86206897,  1.86206897,  1.86206897,  1.86206897,  1.86206897,\n",
       "         1.86206897,  1.86206897,  1.86206897,  1.86206897,  1.86206897],\n",
       "       [ 2.        ,  2.        ,  2.        ,  2.        ,  2.        ,\n",
       "         2.        ,  2.        ,  2.        ,  2.        ,  2.        ,\n",
       "         2.        ,  2.        ,  2.        ,  2.        ,  2.        ,\n",
       "         2.        ,  2.        ,  2.        ,  2.        ,  2.        ,\n",
       "         2.        ,  2.        ,  2.        ,  2.        ,  2.        ,\n",
       "         2.        ,  2.        ,  2.        ,  2.        ,  2.        ]])"
      ]
     },
     "execution_count": 68,
     "metadata": {},
     "output_type": "execute_result"
    }
   ],
   "source": [
    "x"
   ]
  },
  {
   "cell_type": "markdown",
   "metadata": {
    "colab_type": "text",
    "id": "eKE8cY7an4Yq"
   },
   "source": [
    "## Function\n",
    "#### example taken from https://docs.python.org/3/tutorial/controlflow.html#more-on-defining-functions"
   ]
  },
  {
   "cell_type": "code",
   "execution_count": 69,
   "metadata": {
    "colab": {},
    "colab_type": "code",
    "id": "ojSwimdln4Yq"
   },
   "outputs": [],
   "source": [
    "def parrot(voltage, state='a stiff', action='voom', type='Norwegian Blue'):\n",
    "    print(\"-- This parrot wouldn't\", action, end=' ')\n",
    "    print(\"if you put\", voltage, \"volts through it.\")\n",
    "    print(\"-- Lovely plumage, the\", type)\n",
    "    print(\"-- It's\", state, \"!\")"
   ]
  },
  {
   "cell_type": "code",
   "execution_count": 70,
   "metadata": {
    "colab": {},
    "colab_type": "code",
    "id": "y14Ln7ron4Ys"
   },
   "outputs": [
    {
     "name": "stdout",
     "output_type": "stream",
     "text": [
      "-- This parrot wouldn't voom if you put 1000 volts through it.\n",
      "-- Lovely plumage, the Norwegian Blue\n",
      "-- It's a stiff !\n"
     ]
    }
   ],
   "source": [
    "parrot(1000)                                          # 1 positional argument"
   ]
  },
  {
   "cell_type": "code",
   "execution_count": 71,
   "metadata": {
    "colab": {},
    "colab_type": "code",
    "id": "IiOkBaw-n4Yt"
   },
   "outputs": [
    {
     "name": "stdout",
     "output_type": "stream",
     "text": [
      "-- This parrot wouldn't voom if you put 1000 volts through it.\n",
      "-- Lovely plumage, the Norwegian Blue\n",
      "-- It's a stiff !\n"
     ]
    }
   ],
   "source": [
    "parrot(voltage=1000)                                  # 1 keyword argument"
   ]
  },
  {
   "cell_type": "code",
   "execution_count": 72,
   "metadata": {
    "colab": {
     "base_uri": "https://localhost:8080/",
     "height": 67
    },
    "colab_type": "code",
    "id": "xVhSP8Yzn4Yv",
    "outputId": "b59eba39-b332-4b05-dae1-9e32d51ee5da"
   },
   "outputs": [
    {
     "name": "stdout",
     "output_type": "stream",
     "text": [
      "-- This parrot wouldn't VOOOOOM if you put 1000000 volts through it.\n",
      "-- Lovely plumage, the Norwegian Blue\n",
      "-- It's a stiff !\n"
     ]
    }
   ],
   "source": [
    "parrot(voltage=1000000, action='VOOOOOM')             # 2 keyword arguments"
   ]
  },
  {
   "cell_type": "code",
   "execution_count": 73,
   "metadata": {
    "colab": {
     "base_uri": "https://localhost:8080/",
     "height": 67
    },
    "colab_type": "code",
    "id": "MQprtK48n4Yy",
    "outputId": "f4ec75d8-56ae-4fcd-e326-850611554625"
   },
   "outputs": [
    {
     "name": "stdout",
     "output_type": "stream",
     "text": [
      "-- This parrot wouldn't VOOOOOM if you put 1000000 volts through it.\n",
      "-- Lovely plumage, the Norwegian Blue\n",
      "-- It's a stiff !\n"
     ]
    }
   ],
   "source": [
    "parrot(action='VOOOOOM', voltage=1000000)             # 2 keyword arguments"
   ]
  },
  {
   "cell_type": "code",
   "execution_count": 74,
   "metadata": {
    "colab": {
     "base_uri": "https://localhost:8080/",
     "height": 67
    },
    "colab_type": "code",
    "id": "uFmchh_ln4Yz",
    "outputId": "1e894cad-0f9d-48ef-af4c-f8f8adba9d41"
   },
   "outputs": [
    {
     "name": "stdout",
     "output_type": "stream",
     "text": [
      "-- This parrot wouldn't jump if you put a million volts through it.\n",
      "-- Lovely plumage, the Norwegian Blue\n",
      "-- It's bereft of life !\n"
     ]
    }
   ],
   "source": [
    "parrot('a million', 'bereft of life', 'jump')         # 3 positional arguments"
   ]
  },
  {
   "cell_type": "code",
   "execution_count": 75,
   "metadata": {
    "colab": {},
    "colab_type": "code",
    "id": "Ve8suJmNn4Y3"
   },
   "outputs": [
    {
     "name": "stdout",
     "output_type": "stream",
     "text": [
      "-- This parrot wouldn't voom if you put a thousand volts through it.\n",
      "-- Lovely plumage, the Norwegian Blue\n",
      "-- It's pushing up the daisies !\n"
     ]
    }
   ],
   "source": [
    "parrot('a thousand', state='pushing up the daisies')  # 1 positional, 1 keyword"
   ]
  },
  {
   "cell_type": "code",
   "execution_count": 76,
   "metadata": {
    "colab": {},
    "colab_type": "code",
    "id": "E2Oq0tU4n4Y4"
   },
   "outputs": [],
   "source": [
    "# -- dynamic keyword --- #\n",
    "def myFun(*argv):  \n",
    "    \n",
    "    num_List = []\n",
    "    char_List = []\n",
    "    \n",
    "    count = 0\n",
    "    \n",
    "    for arg in argv:  \n",
    "        print (arg) \n",
    "        \n",
    "        count += 1\n",
    "        \n",
    "        num_List.append(count)\n",
    "        \n",
    "        char_List.append(arg+'_'+str(count) )\n",
    "        \n",
    "        \n",
    "    return num_List, char_List"
   ]
  },
  {
   "cell_type": "code",
   "execution_count": 77,
   "metadata": {
    "colab": {
     "base_uri": "https://localhost:8080/",
     "height": 84
    },
    "colab_type": "code",
    "id": "FQqhsyKzn4Y6",
    "outputId": "0cafff52-9bd6-41be-9230-7ab08009021c"
   },
   "outputs": [
    {
     "name": "stdout",
     "output_type": "stream",
     "text": [
      "Hello\n",
      "Welcome\n",
      "to\n",
      "Weizmann\n"
     ]
    }
   ],
   "source": [
    "numAr, charAr = myFun('Hello', 'Welcome', 'to', 'Weizmann')  "
   ]
  },
  {
   "cell_type": "code",
   "execution_count": 78,
   "metadata": {
    "colab": {
     "base_uri": "https://localhost:8080/",
     "height": 34
    },
    "colab_type": "code",
    "id": "x-S7Sbo8n4Y9",
    "outputId": "0551edf6-f6ee-40ee-9ba6-25a08118442e"
   },
   "outputs": [
    {
     "data": {
      "text/plain": [
       "['Hello_1', 'Welcome_2', 'to_3', 'Weizmann_4']"
      ]
     },
     "execution_count": 78,
     "metadata": {},
     "output_type": "execute_result"
    }
   ],
   "source": [
    "charAr"
   ]
  },
  {
   "cell_type": "code",
   "execution_count": 79,
   "metadata": {
    "colab": {
     "base_uri": "https://localhost:8080/",
     "height": 34
    },
    "colab_type": "code",
    "id": "bPZI3_9zn4Y-",
    "outputId": "e970e4ce-828f-447e-b86f-cbc442c9ab1a"
   },
   "outputs": [
    {
     "data": {
      "text/plain": [
       "[1, 2, 3, 4]"
      ]
     },
     "execution_count": 79,
     "metadata": {},
     "output_type": "execute_result"
    }
   ],
   "source": [
    "numAr"
   ]
  },
  {
   "cell_type": "code",
   "execution_count": null,
   "metadata": {
    "colab": {},
    "colab_type": "code",
    "id": "mRkfecDGn4ZA"
   },
   "outputs": [],
   "source": []
  },
  {
   "cell_type": "markdown",
   "metadata": {
    "colab_type": "text",
    "id": "Uq7zBQRtn4ZB"
   },
   "source": [
    "## Class in python"
   ]
  },
  {
   "cell_type": "code",
   "execution_count": 80,
   "metadata": {
    "colab": {},
    "colab_type": "code",
    "id": "K-ze9aixn4ZB"
   },
   "outputs": [],
   "source": [
    "class Customer(object):\n",
    "    \"\"\"A customer of ABC Bank with a checking account. Customers have the\n",
    "    following properties:\n",
    "\n",
    "    Attributes:\n",
    "        name: A string representing the customer's name.\n",
    "        balance: A float tracking the current balance of the customer's account.\n",
    "    \"\"\"\n",
    "\n",
    "    def __init__(self, name, balance=0.0):\n",
    "        \"\"\"Return a Customer object whose name is *name* and starting\n",
    "        balance is *balance*.\"\"\"\n",
    "        self.name = name\n",
    "        self.balance = balance\n",
    "\n",
    "    def withdraw(self, amount):\n",
    "        \"\"\"Return the balance remaining after withdrawing *amount*\n",
    "        dollars.\"\"\"\n",
    "        if amount > self.balance:\n",
    "            raise RuntimeError('Amount greater than available balance.')\n",
    "        self.balance -= amount\n",
    "        return self.balance\n",
    "\n",
    "    def deposit(self, amount):\n",
    "        \"\"\"Return the balance remaining after depositing *amount*\n",
    "        dollars.\"\"\"\n",
    "        self.balance += amount\n",
    "        return self.balance\n",
    "    \n",
    "    def balance(self,) : \n",
    "        \"return the balance\"\n",
    "        return self.balance"
   ]
  },
  {
   "cell_type": "code",
   "execution_count": 81,
   "metadata": {
    "colab": {},
    "colab_type": "code",
    "id": "6wFsLF0Zn4ZC"
   },
   "outputs": [],
   "source": [
    "person1, person2, person3 = Customer('Bob'), Customer('Hari', 1000), Customer(name='Neha', balance=2000)"
   ]
  },
  {
   "cell_type": "code",
   "execution_count": 82,
   "metadata": {
    "colab": {
     "base_uri": "https://localhost:8080/",
     "height": 34
    },
    "colab_type": "code",
    "id": "3XYKR723n4ZE",
    "outputId": "5ec562f2-6e05-4842-e9e2-c97f34f311eb"
   },
   "outputs": [
    {
     "data": {
      "text/plain": [
       "500.0"
      ]
     },
     "execution_count": 82,
     "metadata": {},
     "output_type": "execute_result"
    }
   ],
   "source": [
    "person1.deposit(500)\n",
    "person1.balance"
   ]
  },
  {
   "cell_type": "code",
   "execution_count": 83,
   "metadata": {
    "colab": {
     "base_uri": "https://localhost:8080/",
     "height": 34
    },
    "colab_type": "code",
    "id": "Mb3VUAksn4ZJ",
    "outputId": "4312f2bf-8acf-4115-aa22-4f94847f6481"
   },
   "outputs": [
    {
     "data": {
      "text/plain": [
       "800"
      ]
     },
     "execution_count": 83,
     "metadata": {},
     "output_type": "execute_result"
    }
   ],
   "source": [
    "person2.withdraw(200)\n",
    "person2.balance"
   ]
  },
  {
   "cell_type": "code",
   "execution_count": 84,
   "metadata": {
    "colab": {},
    "colab_type": "code",
    "id": "svZaUSpWn4ZN"
   },
   "outputs": [],
   "source": [
    "class Complex(object):\n",
    "    \n",
    "    def __init__(self, real, imag=0.0):\n",
    "        self.real = real\n",
    "        self.imag = imag\n",
    "        \n",
    "\n",
    "    def __add__(self, other):\n",
    "        return Complex(self.real + other.real,\n",
    "                       self.imag + other.imag)\n",
    "\n",
    "    def __sub__(self, other):\n",
    "        return Complex(self.real - other.real,\n",
    "                       self.imag - other.imag)\n",
    "\n",
    "    def __mul__(self, other):\n",
    "        return Complex(self.real*other.real - self.imag*other.imag,\n",
    "                       self.imag*other.real + self.real*other.imag)\n",
    "\n",
    "    def __div__(self, other):\n",
    "        s_r, s_i, o_r, o_i = self.real, self.imag, \\\n",
    "                             other.real, other.imag # short forms\n",
    "        r = float(o_r**2 + o_i**2)\n",
    "        return Complex((sr*o_r+si*o_i)/r, (si*o_r-sr*oi)/r)\n",
    "\n",
    "    def __abs__(self):\n",
    "        return sqrt(self.real**2 + self.imag**2)\n",
    "\n",
    "    def __neg__(self):   # defines -c (c is Complex)\n",
    "        return Complex(-self.real, -self.imag)\n",
    "\n",
    "    def __eq__(self, other):\n",
    "        return self.real == other.real and self.imag == other.imag\n",
    "\n",
    "    def __ne__(self, other):\n",
    "        return not self.__eq__(other)\n",
    "\n",
    "    def __str__(self):\n",
    "        return '(%g, %g)' % (self.real, self.imag)\n",
    "\n",
    "    def __repr__(self):\n",
    "        return 'Complex' + str(self)\n",
    "\n",
    "    def __pow__(self, power):\n",
    "        raise NotImplementedError \\\n",
    "              ('self**power is not yet impl. for Complex')"
   ]
  },
  {
   "cell_type": "code",
   "execution_count": 85,
   "metadata": {
    "colab": {},
    "colab_type": "code",
    "id": "O43Hq9CEn4ZO"
   },
   "outputs": [],
   "source": [
    "z1 = Complex(3,4)\n",
    "z2 = Complex(4,5)"
   ]
  },
  {
   "cell_type": "code",
   "execution_count": 86,
   "metadata": {
    "colab": {},
    "colab_type": "code",
    "id": "tRA4AvQ-n4ZR"
   },
   "outputs": [],
   "source": [
    "z3 = z1.__mul__(z2)"
   ]
  },
  {
   "cell_type": "code",
   "execution_count": 87,
   "metadata": {
    "colab": {
     "base_uri": "https://localhost:8080/",
     "height": 34
    },
    "colab_type": "code",
    "id": "027lhWQmn4ZT",
    "outputId": "c121c28a-b5ef-4503-9dc2-81aeac983061"
   },
   "outputs": [
    {
     "data": {
      "text/plain": [
       "Complex(-8, 31)"
      ]
     },
     "execution_count": 87,
     "metadata": {},
     "output_type": "execute_result"
    }
   ],
   "source": [
    "z3"
   ]
  },
  {
   "cell_type": "code",
   "execution_count": 88,
   "metadata": {
    "colab": {
     "base_uri": "https://localhost:8080/",
     "height": 34
    },
    "colab_type": "code",
    "id": "1wPpTqHBn4ZU",
    "outputId": "e564c1b3-64e6-4560-f5c6-4e1a8e6fc86f"
   },
   "outputs": [
    {
     "data": {
      "text/plain": [
       "'Complex(-8, 31)'"
      ]
     },
     "execution_count": 88,
     "metadata": {},
     "output_type": "execute_result"
    }
   ],
   "source": [
    "z3.__repr__()"
   ]
  },
  {
   "cell_type": "code",
   "execution_count": null,
   "metadata": {
    "colab": {},
    "colab_type": "code",
    "id": "ouCJF0wOn4ZX"
   },
   "outputs": [],
   "source": []
  },
  {
   "cell_type": "code",
   "execution_count": null,
   "metadata": {
    "colab": {},
    "colab_type": "code",
    "id": "lUkZI1IQn4ZZ"
   },
   "outputs": [],
   "source": []
  }
 ],
 "metadata": {
  "colab": {
   "include_colab_link": true,
   "name": "Basic_Numpy.ipynb",
   "provenance": []
  },
  "kernelspec": {
   "display_name": "Python 3",
   "language": "python",
   "name": "python3"
  },
  "language_info": {
   "codemirror_mode": {
    "name": "ipython",
    "version": 3
   },
   "file_extension": ".py",
   "mimetype": "text/x-python",
   "name": "python",
   "nbconvert_exporter": "python",
   "pygments_lexer": "ipython3",
   "version": "3.8.5"
  }
 },
 "nbformat": 4,
 "nbformat_minor": 1
}
