{
  "nbformat": 4,
  "nbformat_minor": 0,
  "metadata": {
    "kernelspec": {
      "display_name": "Python 3",
      "language": "python",
      "name": "python3"
    },
    "language_info": {
      "codemirror_mode": {
        "name": "ipython",
        "version": 3
      },
      "file_extension": ".py",
      "mimetype": "text/x-python",
      "name": "python",
      "nbconvert_exporter": "python",
      "pygments_lexer": "ipython3",
      "version": "3.7.6"
    },
    "colab": {
      "name": "Pytorch_Classifier.ipynb",
      "provenance": [],
      "include_colab_link": true
    },
    "accelerator": "GPU"
  },
  "cells": [
    {
      "cell_type": "markdown",
      "metadata": {
        "id": "view-in-github",
        "colab_type": "text"
      },
      "source": [
        "<a href=\"https://colab.research.google.com/github/WeizmannML/course2020/blob/master/Tutorial2/Pytorch_Classifier.ipynb\" target=\"_parent\"><img src=\"https://colab.research.google.com/assets/colab-badge.svg\" alt=\"Open In Colab\"/></a>"
      ]
    },
    {
      "cell_type": "code",
      "metadata": {
        "id": "5CU4x6YagGCK",
        "colab_type": "code",
        "colab": {}
      },
      "source": [
        "import numpy as np\n",
        "import pandas as pd\n",
        "from PIL import Image\n",
        "import matplotlib.pyplot as plt\n",
        "import torch\n",
        "import torch.nn as nn\n",
        "from torch.autograd import Variable\n",
        "import torch.utils.data as data"
      ],
      "execution_count": 0,
      "outputs": []
    },
    {
      "cell_type": "code",
      "metadata": {
        "id": "o7IVakbygGCO",
        "colab_type": "code",
        "colab": {}
      },
      "source": [
        "#plt.plot( [1,2], [1, 2] )"
      ],
      "execution_count": 0,
      "outputs": []
    },
    {
      "cell_type": "markdown",
      "metadata": {
        "id": "qknawbKFgGCR",
        "colab_type": "text"
      },
      "source": [
        "### Create a 2-feature dataset"
      ]
    },
    {
      "cell_type": "code",
      "metadata": {
        "id": "1lcpvfeDgGCT",
        "colab_type": "code",
        "colab": {}
      },
      "source": [
        "# First we create the point that we are going to use for the classifier.\n",
        "# We create n_points points for four classes of points center at [0,0], \n",
        "# [0,2], [2,0] and [2,2] with a deviation from the center that follows a\n",
        "# Gaussian distribution with a standar deviation of sigma.\n",
        "\n",
        "n_points = 20000\n",
        "points = np.zeros((n_points,2))   # x, y\n",
        "target = np.zeros((n_points,1))   # label\n",
        "sigma = 0.5\n",
        "for k in range(n_points):\n",
        "    # Random selection of one class with 25% of probability per class.\n",
        "    random = np.random.rand()\n",
        "    if random<0.25:\n",
        "        center = np.array([0,0])\n",
        "        target[k,0] = 0   # This points are labeled 0.\n",
        "    elif random<0.5:\n",
        "        center = np.array([2,2])\n",
        "        target[k,0] = 1   # This points are labeled 1.\n",
        "    elif random<0.75:\n",
        "        center = np.array([2,0])\n",
        "        target[k,0] = 2   # This points are labeled 2.\n",
        "    else:\n",
        "        center = np.array([0,2])\n",
        "        target[k,0] = 3   # This points are labeled 3.\n",
        "    gaussian01_2d = np.random.randn(1,2)\n",
        "    points[k,:] = center + sigma*gaussian01_2d\n",
        "\n",
        "# Now, we write all the points in a file.\n",
        "points_and_labels = np.concatenate((points,target),axis=1)   # 1st, 2nd, 3nd column --> x,y, label\n",
        "pd.DataFrame(points_and_labels).to_csv('clas.csv',index=False)"
      ],
      "execution_count": 0,
      "outputs": []
    },
    {
      "cell_type": "markdown",
      "metadata": {
        "id": "KqpNEyXZgGCX",
        "colab_type": "text"
      },
      "source": [
        "### Creating custom dataset builder"
      ]
    },
    {
      "cell_type": "code",
      "metadata": {
        "id": "4bTHhU5jgGCX",
        "colab_type": "code",
        "colab": {}
      },
      "source": [
        "# We read the dataset and create an iterable.\n",
        "class my_points(data.Dataset):\n",
        "    def __init__(self, filename):\n",
        "        pd_data = pd.read_csv(filename).values   # Read data file.\n",
        "        self.data = pd_data[:,0:2]   # 1st and 2nd columns --> x,y\n",
        "        self.target = pd_data[:,2:]  # 3rd column --> label\n",
        "        self.n_samples = self.data.shape[0]\n",
        "    \n",
        "    def __len__(self):   # Length of the dataset.\n",
        "        return self.n_samples\n",
        "    \n",
        "    def __getitem__(self, index):   # Function that returns one point and one label.\n",
        "        return torch.Tensor(self.data[index]), torch.Tensor(self.target[index])"
      ],
      "execution_count": 0,
      "outputs": []
    },
    {
      "cell_type": "code",
      "metadata": {
        "id": "9JcFBfqCgGCb",
        "colab_type": "code",
        "colab": {}
      },
      "source": [
        "# -- use the custom dataset builder to read the saved file --- #\n",
        "my_data = my_points('clas.csv')"
      ],
      "execution_count": 0,
      "outputs": []
    },
    {
      "cell_type": "code",
      "metadata": {
        "id": "Rb75_xt1gGCd",
        "colab_type": "code",
        "colab": {}
      },
      "source": [
        "test_data = my_data.__getitem__(2)"
      ],
      "execution_count": 0,
      "outputs": []
    },
    {
      "cell_type": "code",
      "metadata": {
        "id": "MIqNuRDYgGCg",
        "colab_type": "code",
        "colab": {
          "base_uri": "https://localhost:8080/",
          "height": 34
        },
        "outputId": "67a86a5e-9ab1-489f-872e-79f1c65a0a3b"
      },
      "source": [
        "test_data"
      ],
      "execution_count": 7,
      "outputs": [
        {
          "output_type": "execute_result",
          "data": {
            "text/plain": [
              "(tensor([0.8598, 1.1605]), tensor([0.]))"
            ]
          },
          "metadata": {
            "tags": []
          },
          "execution_count": 7
        }
      ]
    },
    {
      "cell_type": "code",
      "metadata": {
        "id": "WYMB1vYhgGCk",
        "colab_type": "code",
        "colab": {
          "base_uri": "https://localhost:8080/",
          "height": 34
        },
        "outputId": "f732f4b9-f508-498e-a498-bb5139213e0c"
      },
      "source": [
        "type(test_data)"
      ],
      "execution_count": 8,
      "outputs": [
        {
          "output_type": "execute_result",
          "data": {
            "text/plain": [
              "tuple"
            ]
          },
          "metadata": {
            "tags": []
          },
          "execution_count": 8
        }
      ]
    },
    {
      "cell_type": "code",
      "metadata": {
        "id": "rq7cPMxxgGCn",
        "colab_type": "code",
        "colab": {}
      },
      "source": [
        "\n",
        "batch_size = 200\n",
        "my_loader = data.DataLoader(my_data,batch_size=batch_size,num_workers=0)"
      ],
      "execution_count": 0,
      "outputs": []
    },
    {
      "cell_type": "code",
      "metadata": {
        "id": "aHf0aNZngGCr",
        "colab_type": "code",
        "colab": {}
      },
      "source": [
        "# We build a simple model with the inputs and one output layer.\n",
        "class my_model(nn.Module):\n",
        "    def __init__(self,n_in=2,n_hidden=5,n_out=4):\n",
        "        super(my_model,self).__init__()\n",
        "        self.n_in  = n_in\n",
        "        self.n_out = n_out\n",
        "        self.n_hidden = n_hidden\n",
        "         \n",
        "        self.linear = nn.Sequential(\n",
        "            nn.Linear(self.n_in, self.n_hidden),\n",
        "            nn.Linear(self.n_hidden ,self.n_hidden),   # Hidden layer.\n",
        "            nn.Dropout(p=0.2),\n",
        "            nn.Linear(self.n_hidden ,self.n_out),\n",
        "            nn.BatchNorm1d(self.n_out),\n",
        "            nn.ReLU()\n",
        "            )\n",
        "        self.logprob = nn.LogSoftmax(dim=1)                 # -Log(Softmax probability).\n",
        "    \n",
        "    def forward(self,x):\n",
        "        x = self.linear(x)\n",
        "        x = self.logprob(x)\n",
        "        return x"
      ],
      "execution_count": 0,
      "outputs": []
    },
    {
      "cell_type": "code",
      "metadata": {
        "id": "fq8LrR9YgGCt",
        "colab_type": "code",
        "colab": {}
      },
      "source": [
        "# Now, we create the mode, the loss function or criterium and the optimizer \n",
        "# that we are going to use to minimize the loss.\n",
        "\n",
        "# Model.\n",
        "model = my_model()\n",
        "\n",
        "# Negative log likelihood loss.\n",
        "criterium = nn.NLLLoss()\n",
        "\n",
        "# Adam optimizer with learning rate 0.1 and L2 regularization with weight 1e-4.\n",
        "optimizer = torch.optim.Adam(model.parameters(),lr=0.1,weight_decay=1e-4)"
      ],
      "execution_count": 0,
      "outputs": []
    },
    {
      "cell_type": "code",
      "metadata": {
        "id": "OKR_R0SVgGCw",
        "colab_type": "code",
        "colab": {
          "base_uri": "https://localhost:8080/",
          "height": 185
        },
        "outputId": "8cac7c3f-0ccc-4bc9-bb4a-9f623a4adc7d"
      },
      "source": [
        "loss_array = []\n",
        "epoch = 0\n",
        "\n",
        "# Taining.\n",
        "for k, (data, target) in enumerate(my_loader):\n",
        "    # Definition of inputs as variables for the net.\n",
        "    # requires_grad is set False because we do not need to compute the \n",
        "    # derivative of the inputs.\n",
        "    data   = Variable(data,requires_grad=False)\n",
        "    target = Variable(target.long(),requires_grad=False)\n",
        "    \n",
        "    # Set gradient to 0.\n",
        "    optimizer.zero_grad()\n",
        "    # Feed forward.\n",
        "    pred = model(data)\n",
        "    # Loss calculation.\n",
        "    loss = criterium(pred,target.view(-1))\n",
        "    \n",
        "    loss_array.append(loss.item() )\n",
        "    # Gradient calculation.\n",
        "    loss.backward()\n",
        "    \n",
        "    \n",
        "    # Print loss every 10 iterations.\n",
        "    if k%10==0:\n",
        "        print('Loss {:.4f} at iter {:d}'.format(loss.item(),k))\n",
        "        \n",
        "    # Model weight modification based on the optimizer. \n",
        "    optimizer.step()\n",
        "    \n",
        "    epoch += 1"
      ],
      "execution_count": 16,
      "outputs": [
        {
          "output_type": "stream",
          "text": [
            "Loss 1.5071 at iter 0\n",
            "Loss 0.7670 at iter 10\n",
            "Loss 0.6962 at iter 20\n",
            "Loss 0.5633 at iter 30\n",
            "Loss 0.6044 at iter 40\n",
            "Loss 0.6287 at iter 50\n",
            "Loss 0.5506 at iter 60\n",
            "Loss 0.5671 at iter 70\n",
            "Loss 0.5750 at iter 80\n",
            "Loss 0.6492 at iter 90\n"
          ],
          "name": "stdout"
        }
      ]
    },
    {
      "cell_type": "code",
      "metadata": {
        "id": "rvVOr2CDgGCz",
        "colab_type": "code",
        "colab": {
          "base_uri": "https://localhost:8080/",
          "height": 296
        },
        "outputId": "8df9cc8a-3428-4de3-8559-5f14f90ea6a7"
      },
      "source": [
        "plt.plot( np.arange(0, epoch, 1), np.array(loss_array) )\n",
        "plt.xlabel('Epoch')\n",
        "plt.ylabel('Loss')"
      ],
      "execution_count": 21,
      "outputs": [
        {
          "output_type": "execute_result",
          "data": {
            "text/plain": [
              "Text(0, 0.5, 'Loss')"
            ]
          },
          "metadata": {
            "tags": []
          },
          "execution_count": 21
        },
        {
          "output_type": "display_data",
          "data": {
            "image/png": "[encoded data removed]",
            "text/plain": [
              "<Figure size 432x288 with 1 Axes>"
            ]
          },
          "metadata": {
            "tags": [],
            "needs_background": "light"
          }
        }
      ]
    },
    {
      "cell_type": "code",
      "metadata": {
        "id": "axQWGfIWgGC2",
        "colab_type": "code",
        "colab": {}
      },
      "source": [
        ""
      ],
      "execution_count": 0,
      "outputs": []
    },
    {
      "cell_type": "code",
      "metadata": {
        "id": "IKoMrUtkgGC4",
        "colab_type": "code",
        "colab": {}
      },
      "source": [
        ""
      ],
      "execution_count": 0,
      "outputs": []
    },
    {
      "cell_type": "code",
      "metadata": {
        "id": "ZvZjcQhJgGC6",
        "colab_type": "code",
        "colab": {}
      },
      "source": [
        ""
      ],
      "execution_count": 0,
      "outputs": []
    },
    {
      "cell_type": "code",
      "metadata": {
        "id": "GHd-eETXgGC9",
        "colab_type": "code",
        "colab": {}
      },
      "source": [
        ""
      ],
      "execution_count": 0,
      "outputs": []
    },
    {
      "cell_type": "code",
      "metadata": {
        "id": "HzeL0q5WgGC_",
        "colab_type": "code",
        "colab": {}
      },
      "source": [
        ""
      ],
      "execution_count": 0,
      "outputs": []
    },
    {
      "cell_type": "code",
      "metadata": {
        "id": "rtVMkg0FgGDB",
        "colab_type": "code",
        "colab": {
          "base_uri": "https://localhost:8080/",
          "height": 282
        },
        "outputId": "afb038be-0c98-492a-b736-a38f2176647d"
      },
      "source": [
        "# Now, we plot the results.\n",
        "# Circles indicate the ground truth and the squares are the predictions.\n",
        "\n",
        "colors = ['r','b','g','y']\n",
        "points = data.numpy()\n",
        "\n",
        "print('Reached here')\n",
        "\n",
        "# Ground truth.\n",
        "target = target.numpy()\n",
        "for k in range(4):\n",
        "    select = target[:,0]==k\n",
        "    p = points[select,:]\n",
        "    plt.scatter(p[:,0],p[:,1],facecolors=colors[k])\n",
        "\n",
        "# Predictions.\n",
        "pred = pred.exp().detach()     # exp of the log prob = probability.\n",
        "_, index = torch.max(pred,1)   # index of the class with maximum probability.\n",
        "pred = pred.numpy()\n",
        "index = index.numpy()\n",
        "for k in range(4):\n",
        "    select = index==k\n",
        "    p = points[select,:]\n",
        "    plt.scatter(p[:,0],p[:,1],s=60,marker='s',edgecolors=colors[k],facecolors='none')\n",
        "\n",
        "plt.show()"
      ],
      "execution_count": 20,
      "outputs": [
        {
          "output_type": "stream",
          "text": [
            "Reached here\n"
          ],
          "name": "stdout"
        },
        {
          "output_type": "display_data",
          "data": {
            "image/png": "[encoded data removed]",
            "text/plain": [
              "<Figure size 432x288 with 1 Axes>"
            ]
          },
          "metadata": {
            "tags": [],
            "needs_background": "light"
          }
        }
      ]
    },
    {
      "cell_type": "code",
      "metadata": {
        "id": "FWgynogOgGDD",
        "colab_type": "code",
        "colab": {}
      },
      "source": [
        ""
      ],
      "execution_count": 0,
      "outputs": []
    },
    {
      "cell_type": "code",
      "metadata": {
        "id": "NzWswzl1gGDG",
        "colab_type": "code",
        "colab": {}
      },
      "source": [
        ""
      ],
      "execution_count": 0,
      "outputs": []
    },
    {
      "cell_type": "code",
      "metadata": {
        "id": "iRmWSqTsgGDI",
        "colab_type": "code",
        "colab": {}
      },
      "source": [
        ""
      ],
      "execution_count": 0,
      "outputs": []
    },
    {
      "cell_type": "code",
      "metadata": {
        "id": "QD3qGN2_gGDK",
        "colab_type": "code",
        "colab": {}
      },
      "source": [
        ""
      ],
      "execution_count": 0,
      "outputs": []
    }
  ]
}
